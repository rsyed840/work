{
  "nbformat": 4,
  "nbformat_minor": 0,
  "metadata": {
    "colab": {
      "provenance": [],
      "authorship_tag": "ABX9TyOvrskwndOqDOruK7yT+7ha",
      "include_colab_link": true
    },
    "kernelspec": {
      "name": "python3",
      "display_name": "Python 3"
    },
    "language_info": {
      "name": "python"
    }
  },
  "cells": [
    {
      "cell_type": "markdown",
      "metadata": {
        "id": "view-in-github",
        "colab_type": "text"
      },
      "source": [
        "<a href=\"https://colab.research.google.com/github/rsyed840/work/blob/main/ANN_FOR_REGESSION.ipynb\" target=\"_parent\"><img src=\"https://colab.research.google.com/assets/colab-badge.svg\" alt=\"Open In Colab\"/></a>"
      ]
    },
    {
      "cell_type": "code",
      "execution_count": 30,
      "metadata": {
        "id": "CXBzW6kZG4QP"
      },
      "outputs": [],
      "source": [
        "import numpy as np\n",
        "import pandas as pd"
      ]
    },
    {
      "cell_type": "code",
      "source": [
        "import tensorflow as tf\n",
        "import keras"
      ],
      "metadata": {
        "id": "uwDBVuS1HFXc"
      },
      "execution_count": 31,
      "outputs": []
    },
    {
      "cell_type": "code",
      "source": [
        "df=pd.read_excel(\"/content/energy.xlsx\")\n",
        "df.head()"
      ],
      "metadata": {
        "colab": {
          "base_uri": "https://localhost:8080/",
          "height": 206
        },
        "id": "ZgijzNNGHW1w",
        "outputId": "c9fe8b1b-8006-434a-f559-0bb316471e7f"
      },
      "execution_count": 32,
      "outputs": [
        {
          "output_type": "execute_result",
          "data": {
            "text/plain": [
              "      AT      V       AP     RH      PE\n",
              "0  14.96  41.76  1024.07  73.17  463.26\n",
              "1  25.18  62.96  1020.04  59.08  444.37\n",
              "2   5.11  39.40  1012.16  92.14  488.56\n",
              "3  20.86  57.32  1010.24  76.64  446.48\n",
              "4  10.82  37.50  1009.23  96.62  473.90"
            ],
            "text/html": [
              "\n",
              "  <div id=\"df-db4aa659-dadd-4398-9fcf-90e4decd5ae4\">\n",
              "    <div class=\"colab-df-container\">\n",
              "      <div>\n",
              "<style scoped>\n",
              "    .dataframe tbody tr th:only-of-type {\n",
              "        vertical-align: middle;\n",
              "    }\n",
              "\n",
              "    .dataframe tbody tr th {\n",
              "        vertical-align: top;\n",
              "    }\n",
              "\n",
              "    .dataframe thead th {\n",
              "        text-align: right;\n",
              "    }\n",
              "</style>\n",
              "<table border=\"1\" class=\"dataframe\">\n",
              "  <thead>\n",
              "    <tr style=\"text-align: right;\">\n",
              "      <th></th>\n",
              "      <th>AT</th>\n",
              "      <th>V</th>\n",
              "      <th>AP</th>\n",
              "      <th>RH</th>\n",
              "      <th>PE</th>\n",
              "    </tr>\n",
              "  </thead>\n",
              "  <tbody>\n",
              "    <tr>\n",
              "      <th>0</th>\n",
              "      <td>14.96</td>\n",
              "      <td>41.76</td>\n",
              "      <td>1024.07</td>\n",
              "      <td>73.17</td>\n",
              "      <td>463.26</td>\n",
              "    </tr>\n",
              "    <tr>\n",
              "      <th>1</th>\n",
              "      <td>25.18</td>\n",
              "      <td>62.96</td>\n",
              "      <td>1020.04</td>\n",
              "      <td>59.08</td>\n",
              "      <td>444.37</td>\n",
              "    </tr>\n",
              "    <tr>\n",
              "      <th>2</th>\n",
              "      <td>5.11</td>\n",
              "      <td>39.40</td>\n",
              "      <td>1012.16</td>\n",
              "      <td>92.14</td>\n",
              "      <td>488.56</td>\n",
              "    </tr>\n",
              "    <tr>\n",
              "      <th>3</th>\n",
              "      <td>20.86</td>\n",
              "      <td>57.32</td>\n",
              "      <td>1010.24</td>\n",
              "      <td>76.64</td>\n",
              "      <td>446.48</td>\n",
              "    </tr>\n",
              "    <tr>\n",
              "      <th>4</th>\n",
              "      <td>10.82</td>\n",
              "      <td>37.50</td>\n",
              "      <td>1009.23</td>\n",
              "      <td>96.62</td>\n",
              "      <td>473.90</td>\n",
              "    </tr>\n",
              "  </tbody>\n",
              "</table>\n",
              "</div>\n",
              "      <button class=\"colab-df-convert\" onclick=\"convertToInteractive('df-db4aa659-dadd-4398-9fcf-90e4decd5ae4')\"\n",
              "              title=\"Convert this dataframe to an interactive table.\"\n",
              "              style=\"display:none;\">\n",
              "        \n",
              "  <svg xmlns=\"http://www.w3.org/2000/svg\" height=\"24px\"viewBox=\"0 0 24 24\"\n",
              "       width=\"24px\">\n",
              "    <path d=\"M0 0h24v24H0V0z\" fill=\"none\"/>\n",
              "    <path d=\"M18.56 5.44l.94 2.06.94-2.06 2.06-.94-2.06-.94-.94-2.06-.94 2.06-2.06.94zm-11 1L8.5 8.5l.94-2.06 2.06-.94-2.06-.94L8.5 2.5l-.94 2.06-2.06.94zm10 10l.94 2.06.94-2.06 2.06-.94-2.06-.94-.94-2.06-.94 2.06-2.06.94z\"/><path d=\"M17.41 7.96l-1.37-1.37c-.4-.4-.92-.59-1.43-.59-.52 0-1.04.2-1.43.59L10.3 9.45l-7.72 7.72c-.78.78-.78 2.05 0 2.83L4 21.41c.39.39.9.59 1.41.59.51 0 1.02-.2 1.41-.59l7.78-7.78 2.81-2.81c.8-.78.8-2.07 0-2.86zM5.41 20L4 18.59l7.72-7.72 1.47 1.35L5.41 20z\"/>\n",
              "  </svg>\n",
              "      </button>\n",
              "      \n",
              "  <style>\n",
              "    .colab-df-container {\n",
              "      display:flex;\n",
              "      flex-wrap:wrap;\n",
              "      gap: 12px;\n",
              "    }\n",
              "\n",
              "    .colab-df-convert {\n",
              "      background-color: #E8F0FE;\n",
              "      border: none;\n",
              "      border-radius: 50%;\n",
              "      cursor: pointer;\n",
              "      display: none;\n",
              "      fill: #1967D2;\n",
              "      height: 32px;\n",
              "      padding: 0 0 0 0;\n",
              "      width: 32px;\n",
              "    }\n",
              "\n",
              "    .colab-df-convert:hover {\n",
              "      background-color: #E2EBFA;\n",
              "      box-shadow: 0px 1px 2px rgba(60, 64, 67, 0.3), 0px 1px 3px 1px rgba(60, 64, 67, 0.15);\n",
              "      fill: #174EA6;\n",
              "    }\n",
              "\n",
              "    [theme=dark] .colab-df-convert {\n",
              "      background-color: #3B4455;\n",
              "      fill: #D2E3FC;\n",
              "    }\n",
              "\n",
              "    [theme=dark] .colab-df-convert:hover {\n",
              "      background-color: #434B5C;\n",
              "      box-shadow: 0px 1px 3px 1px rgba(0, 0, 0, 0.15);\n",
              "      filter: drop-shadow(0px 1px 2px rgba(0, 0, 0, 0.3));\n",
              "      fill: #FFFFFF;\n",
              "    }\n",
              "  </style>\n",
              "\n",
              "      <script>\n",
              "        const buttonEl =\n",
              "          document.querySelector('#df-db4aa659-dadd-4398-9fcf-90e4decd5ae4 button.colab-df-convert');\n",
              "        buttonEl.style.display =\n",
              "          google.colab.kernel.accessAllowed ? 'block' : 'none';\n",
              "\n",
              "        async function convertToInteractive(key) {\n",
              "          const element = document.querySelector('#df-db4aa659-dadd-4398-9fcf-90e4decd5ae4');\n",
              "          const dataTable =\n",
              "            await google.colab.kernel.invokeFunction('convertToInteractive',\n",
              "                                                     [key], {});\n",
              "          if (!dataTable) return;\n",
              "\n",
              "          const docLinkHtml = 'Like what you see? Visit the ' +\n",
              "            '<a target=\"_blank\" href=https://colab.research.google.com/notebooks/data_table.ipynb>data table notebook</a>'\n",
              "            + ' to learn more about interactive tables.';\n",
              "          element.innerHTML = '';\n",
              "          dataTable['output_type'] = 'display_data';\n",
              "          await google.colab.output.renderOutput(dataTable, element);\n",
              "          const docLink = document.createElement('div');\n",
              "          docLink.innerHTML = docLinkHtml;\n",
              "          element.appendChild(docLink);\n",
              "        }\n",
              "      </script>\n",
              "    </div>\n",
              "  </div>\n",
              "  "
            ]
          },
          "metadata": {},
          "execution_count": 32
        }
      ]
    },
    {
      "cell_type": "code",
      "source": [
        "df.info()"
      ],
      "metadata": {
        "colab": {
          "base_uri": "https://localhost:8080/"
        },
        "id": "P6Q5sYsTJgmk",
        "outputId": "6f17747c-a7ad-4598-e083-9153a0afaf6e"
      },
      "execution_count": 34,
      "outputs": [
        {
          "output_type": "stream",
          "name": "stdout",
          "text": [
            "<class 'pandas.core.frame.DataFrame'>\n",
            "RangeIndex: 9568 entries, 0 to 9567\n",
            "Data columns (total 5 columns):\n",
            " #   Column  Non-Null Count  Dtype  \n",
            "---  ------  --------------  -----  \n",
            " 0   AT      9568 non-null   float64\n",
            " 1   V       9568 non-null   float64\n",
            " 2   AP      9568 non-null   float64\n",
            " 3   RH      9568 non-null   float64\n",
            " 4   PE      9568 non-null   float64\n",
            "dtypes: float64(5)\n",
            "memory usage: 373.9 KB\n"
          ]
        }
      ]
    },
    {
      "cell_type": "code",
      "source": [
        "x=df.drop(columns='PE')\n",
        "y=df['PE']"
      ],
      "metadata": {
        "id": "dPnIzcvfJ7nT"
      },
      "execution_count": 35,
      "outputs": []
    },
    {
      "cell_type": "markdown",
      "source": [
        "training set test set "
      ],
      "metadata": {
        "id": "48BwQqaHMtsg"
      }
    },
    {
      "cell_type": "code",
      "source": [
        " from sklearn.model_selection import train_test_split\n",
        " x_train,x_test,y_train,y_test=train_test_split(x,y,test_size=0.2,random_state=0)"
      ],
      "metadata": {
        "id": "rnUmCSZlKROs"
      },
      "execution_count": 36,
      "outputs": []
    },
    {
      "cell_type": "markdown",
      "source": [
        "scaling\n"
      ],
      "metadata": {
        "id": "ExsUbvIWMp5y"
      }
    },
    {
      "cell_type": "code",
      "source": [
        "from sklearn.preprocessing import StandardScaler\n",
        "sc=StandardScaler()\n",
        "x_train=sc.fit_transform(x_train)\n",
        "x_test=sc.fit_transform(x_test)"
      ],
      "metadata": {
        "id": "78MKDkZ2K8fW"
      },
      "execution_count": 37,
      "outputs": []
    },
    {
      "cell_type": "markdown",
      "source": [
        "**PART-2 buiding the ANN**"
      ],
      "metadata": {
        "id": "Y06KEF3ZM5xx"
      }
    },
    {
      "cell_type": "code",
      "source": [
        "x_train.shape"
      ],
      "metadata": {
        "colab": {
          "base_uri": "https://localhost:8080/"
        },
        "id": "v4NBJm7yMmo8",
        "outputId": "1a429e12-2243-42ea-b425-5727e50fbd5a"
      },
      "execution_count": 38,
      "outputs": [
        {
          "output_type": "execute_result",
          "data": {
            "text/plain": [
              "(7654, 4)"
            ]
          },
          "metadata": {},
          "execution_count": 38
        }
      ]
    },
    {
      "cell_type": "code",
      "source": [
        "from keras.models import Sequential\n",
        "model=Sequential()"
      ],
      "metadata": {
        "id": "rGkop5ziNbHu"
      },
      "execution_count": 39,
      "outputs": []
    },
    {
      "cell_type": "code",
      "source": [
        "from keras.layers import Dense"
      ],
      "metadata": {
        "id": "jwM4D6yURQJe"
      },
      "execution_count": 40,
      "outputs": []
    },
    {
      "cell_type": "code",
      "source": [
        "def ann_model_regressor():\n",
        "\n",
        "   #initializing ANN\n",
        "    model=Sequential()\n",
        "\n",
        "    #input layer+ hidden layer\n",
        "    model.add(Dense(input_dim=4,units=6,activation='relu',kernel_initializer='uniform'))\n",
        "\n",
        "    #second hidden layer\n",
        "    model.add(Dense(units=6,activation='relu',kernel_initializer='uniform'))\n",
        "\n",
        "    #adding the output layer\n",
        "    model.add(Dense(units=1,activation='relu',kernel_initializer='uniform'))\n",
        "\n",
        "    #compile the ANN\n",
        "    model.compile(optimizer='adam',loss='mean_squared_error')\n",
        "  \n",
        "    return model"
      ],
      "metadata": {
        "id": "ffqPIBNuVPwm"
      },
      "execution_count": 48,
      "outputs": []
    },
    {
      "cell_type": "code",
      "source": [
        "ann=ann_model_regressor()"
      ],
      "metadata": {
        "id": "JFivMkQnW7SP"
      },
      "execution_count": 49,
      "outputs": []
    },
    {
      "cell_type": "code",
      "source": [
        "#training the ann model on training set\n",
        "ann.fit(x_train,y_train, batch_size=32, epochs=100)"
      ],
      "metadata": {
        "colab": {
          "base_uri": "https://localhost:8080/"
        },
        "id": "5tDYGle3XCs0",
        "outputId": "6eab14cb-6166-414e-9564-4ab8ea8ad4ce"
      },
      "execution_count": 50,
      "outputs": [
        {
          "output_type": "stream",
          "name": "stdout",
          "text": [
            "Epoch 1/100\n",
            "240/240 [==============================] - 1s 2ms/step - loss: 205816.5312\n",
            "Epoch 2/100\n",
            "240/240 [==============================] - 0s 2ms/step - loss: 192523.0156\n",
            "Epoch 3/100\n",
            "240/240 [==============================] - 0s 2ms/step - loss: 150043.6094\n",
            "Epoch 4/100\n",
            "240/240 [==============================] - 0s 2ms/step - loss: 88418.4141\n",
            "Epoch 5/100\n",
            "240/240 [==============================] - 0s 2ms/step - loss: 41611.4219\n",
            "Epoch 6/100\n",
            "240/240 [==============================] - 0s 2ms/step - loss: 23754.7832\n",
            "Epoch 7/100\n",
            "240/240 [==============================] - 0s 2ms/step - loss: 18561.0312\n",
            "Epoch 8/100\n",
            "240/240 [==============================] - 0s 2ms/step - loss: 15220.7266\n",
            "Epoch 9/100\n",
            "240/240 [==============================] - 0s 2ms/step - loss: 12086.9512\n",
            "Epoch 10/100\n",
            "240/240 [==============================] - 0s 2ms/step - loss: 9094.4824\n",
            "Epoch 11/100\n",
            "240/240 [==============================] - 1s 3ms/step - loss: 6397.9980\n",
            "Epoch 12/100\n",
            "240/240 [==============================] - 1s 3ms/step - loss: 4159.7715\n",
            "Epoch 13/100\n",
            "240/240 [==============================] - 1s 2ms/step - loss: 2466.3806\n",
            "Epoch 14/100\n",
            "240/240 [==============================] - 1s 2ms/step - loss: 1343.2416\n",
            "Epoch 15/100\n",
            "240/240 [==============================] - 1s 2ms/step - loss: 702.7844\n",
            "Epoch 16/100\n",
            "240/240 [==============================] - 0s 2ms/step - loss: 375.2872\n",
            "Epoch 17/100\n",
            "240/240 [==============================] - 0s 2ms/step - loss: 212.1475\n",
            "Epoch 18/100\n",
            "240/240 [==============================] - 0s 2ms/step - loss: 128.4461\n",
            "Epoch 19/100\n",
            "240/240 [==============================] - 0s 2ms/step - loss: 83.3434\n",
            "Epoch 20/100\n",
            "240/240 [==============================] - 0s 2ms/step - loss: 58.3494\n",
            "Epoch 21/100\n",
            "240/240 [==============================] - 0s 2ms/step - loss: 43.9921\n",
            "Epoch 22/100\n",
            "240/240 [==============================] - 0s 2ms/step - loss: 35.5421\n",
            "Epoch 23/100\n",
            "240/240 [==============================] - 0s 2ms/step - loss: 30.3437\n",
            "Epoch 24/100\n",
            "240/240 [==============================] - 0s 2ms/step - loss: 27.2333\n",
            "Epoch 25/100\n",
            "240/240 [==============================] - 0s 2ms/step - loss: 25.2056\n",
            "Epoch 26/100\n",
            "240/240 [==============================] - 0s 2ms/step - loss: 23.9560\n",
            "Epoch 27/100\n",
            "240/240 [==============================] - 0s 2ms/step - loss: 23.0592\n",
            "Epoch 28/100\n",
            "240/240 [==============================] - 0s 2ms/step - loss: 22.4799\n",
            "Epoch 29/100\n",
            "240/240 [==============================] - 0s 2ms/step - loss: 22.0736\n",
            "Epoch 30/100\n",
            "240/240 [==============================] - 0s 2ms/step - loss: 21.7655\n",
            "Epoch 31/100\n",
            "240/240 [==============================] - 0s 2ms/step - loss: 21.5443\n",
            "Epoch 32/100\n",
            "240/240 [==============================] - 0s 2ms/step - loss: 21.3982\n",
            "Epoch 33/100\n",
            "240/240 [==============================] - 0s 2ms/step - loss: 21.2564\n",
            "Epoch 34/100\n",
            "240/240 [==============================] - 0s 2ms/step - loss: 21.1847\n",
            "Epoch 35/100\n",
            "240/240 [==============================] - 0s 2ms/step - loss: 21.0800\n",
            "Epoch 36/100\n",
            "240/240 [==============================] - 0s 2ms/step - loss: 21.0310\n",
            "Epoch 37/100\n",
            "240/240 [==============================] - 0s 2ms/step - loss: 21.0029\n",
            "Epoch 38/100\n",
            "240/240 [==============================] - 0s 2ms/step - loss: 20.9912\n",
            "Epoch 39/100\n",
            "240/240 [==============================] - 0s 2ms/step - loss: 20.9041\n",
            "Epoch 40/100\n",
            "240/240 [==============================] - 1s 3ms/step - loss: 20.9938\n",
            "Epoch 41/100\n",
            "240/240 [==============================] - 1s 3ms/step - loss: 20.9418\n",
            "Epoch 42/100\n",
            "240/240 [==============================] - 1s 2ms/step - loss: 20.8984\n",
            "Epoch 43/100\n",
            "240/240 [==============================] - 1s 3ms/step - loss: 20.9210\n",
            "Epoch 44/100\n",
            "240/240 [==============================] - 0s 2ms/step - loss: 20.8317\n",
            "Epoch 45/100\n",
            "240/240 [==============================] - 0s 2ms/step - loss: 20.8753\n",
            "Epoch 46/100\n",
            "240/240 [==============================] - 0s 2ms/step - loss: 21.0317\n",
            "Epoch 47/100\n",
            "240/240 [==============================] - 0s 2ms/step - loss: 20.9110\n",
            "Epoch 48/100\n",
            "240/240 [==============================] - 0s 2ms/step - loss: 20.8315\n",
            "Epoch 49/100\n",
            "240/240 [==============================] - 0s 2ms/step - loss: 20.9284\n",
            "Epoch 50/100\n",
            "240/240 [==============================] - 0s 2ms/step - loss: 20.8219\n",
            "Epoch 51/100\n",
            "240/240 [==============================] - 0s 2ms/step - loss: 20.8537\n",
            "Epoch 52/100\n",
            "240/240 [==============================] - 0s 2ms/step - loss: 20.8964\n",
            "Epoch 53/100\n",
            "240/240 [==============================] - 0s 2ms/step - loss: 20.9054\n",
            "Epoch 54/100\n",
            "240/240 [==============================] - 0s 2ms/step - loss: 20.7766\n",
            "Epoch 55/100\n",
            "240/240 [==============================] - 0s 2ms/step - loss: 20.8988\n",
            "Epoch 56/100\n",
            "240/240 [==============================] - 0s 2ms/step - loss: 20.8431\n",
            "Epoch 57/100\n",
            "240/240 [==============================] - 0s 2ms/step - loss: 20.8106\n",
            "Epoch 58/100\n",
            "240/240 [==============================] - 0s 2ms/step - loss: 20.8770\n",
            "Epoch 59/100\n",
            "240/240 [==============================] - 0s 2ms/step - loss: 20.9094\n",
            "Epoch 60/100\n",
            "240/240 [==============================] - 0s 2ms/step - loss: 20.8819\n",
            "Epoch 61/100\n",
            "240/240 [==============================] - 0s 2ms/step - loss: 21.0678\n",
            "Epoch 62/100\n",
            "240/240 [==============================] - 0s 2ms/step - loss: 20.7987\n",
            "Epoch 63/100\n",
            "240/240 [==============================] - 0s 2ms/step - loss: 20.7801\n",
            "Epoch 64/100\n",
            "240/240 [==============================] - 0s 2ms/step - loss: 20.9503\n",
            "Epoch 65/100\n",
            "240/240 [==============================] - 0s 2ms/step - loss: 20.9132\n",
            "Epoch 66/100\n",
            "240/240 [==============================] - 0s 2ms/step - loss: 21.0233\n",
            "Epoch 67/100\n",
            "240/240 [==============================] - 0s 2ms/step - loss: 20.9399\n",
            "Epoch 68/100\n",
            "240/240 [==============================] - 1s 2ms/step - loss: 20.8853\n",
            "Epoch 69/100\n",
            "240/240 [==============================] - 1s 2ms/step - loss: 20.7099\n",
            "Epoch 70/100\n",
            "240/240 [==============================] - 1s 3ms/step - loss: 20.8356\n",
            "Epoch 71/100\n",
            "240/240 [==============================] - 1s 2ms/step - loss: 20.7740\n",
            "Epoch 72/100\n",
            "240/240 [==============================] - 1s 2ms/step - loss: 20.7361\n",
            "Epoch 73/100\n",
            "240/240 [==============================] - 0s 2ms/step - loss: 20.7125\n",
            "Epoch 74/100\n",
            "240/240 [==============================] - 0s 2ms/step - loss: 20.7978\n",
            "Epoch 75/100\n",
            "240/240 [==============================] - 0s 2ms/step - loss: 20.7655\n",
            "Epoch 76/100\n",
            "240/240 [==============================] - 0s 2ms/step - loss: 20.8041\n",
            "Epoch 77/100\n",
            "240/240 [==============================] - 0s 2ms/step - loss: 20.7706\n",
            "Epoch 78/100\n",
            "240/240 [==============================] - 0s 2ms/step - loss: 20.8345\n",
            "Epoch 79/100\n",
            "240/240 [==============================] - 0s 2ms/step - loss: 20.7553\n",
            "Epoch 80/100\n",
            "240/240 [==============================] - 0s 2ms/step - loss: 20.8324\n",
            "Epoch 81/100\n",
            "240/240 [==============================] - 0s 2ms/step - loss: 20.8267\n",
            "Epoch 82/100\n",
            "240/240 [==============================] - 0s 2ms/step - loss: 20.8133\n",
            "Epoch 83/100\n",
            "240/240 [==============================] - 0s 2ms/step - loss: 20.7050\n",
            "Epoch 84/100\n",
            "240/240 [==============================] - 0s 2ms/step - loss: 20.6818\n",
            "Epoch 85/100\n",
            "240/240 [==============================] - 0s 2ms/step - loss: 20.8054\n",
            "Epoch 86/100\n",
            "240/240 [==============================] - 0s 2ms/step - loss: 20.7812\n",
            "Epoch 87/100\n",
            "240/240 [==============================] - 0s 2ms/step - loss: 20.8116\n",
            "Epoch 88/100\n",
            "240/240 [==============================] - 0s 2ms/step - loss: 20.7526\n",
            "Epoch 89/100\n",
            "240/240 [==============================] - 0s 2ms/step - loss: 20.7119\n",
            "Epoch 90/100\n",
            "240/240 [==============================] - 0s 2ms/step - loss: 20.8774\n",
            "Epoch 91/100\n",
            "240/240 [==============================] - 0s 2ms/step - loss: 20.7289\n",
            "Epoch 92/100\n",
            "240/240 [==============================] - 0s 2ms/step - loss: 20.8320\n",
            "Epoch 93/100\n",
            "240/240 [==============================] - 0s 2ms/step - loss: 20.7317\n",
            "Epoch 94/100\n",
            "240/240 [==============================] - 0s 2ms/step - loss: 20.7549\n",
            "Epoch 95/100\n",
            "240/240 [==============================] - 0s 2ms/step - loss: 20.8052\n",
            "Epoch 96/100\n",
            "240/240 [==============================] - 0s 2ms/step - loss: 20.7869\n",
            "Epoch 97/100\n",
            "240/240 [==============================] - 1s 2ms/step - loss: 20.7929\n",
            "Epoch 98/100\n",
            "240/240 [==============================] - 1s 2ms/step - loss: 20.8215\n",
            "Epoch 99/100\n",
            "240/240 [==============================] - 1s 2ms/step - loss: 20.8342\n",
            "Epoch 100/100\n",
            "240/240 [==============================] - 1s 2ms/step - loss: 20.7242\n"
          ]
        },
        {
          "output_type": "execute_result",
          "data": {
            "text/plain": [
              "<keras.callbacks.History at 0x7f0682723820>"
            ]
          },
          "metadata": {},
          "execution_count": 50
        }
      ]
    },
    {
      "cell_type": "code",
      "source": [
        "#predicing the result\n",
        "ypred_train=ann.predict(x_train)\n",
        "ypred_test=ann.predict(x_test)"
      ],
      "metadata": {
        "colab": {
          "base_uri": "https://localhost:8080/"
        },
        "id": "UHmJZuR2YStM",
        "outputId": "ef211f47-5e96-465c-8035-1d7fa74d6cfd"
      },
      "execution_count": 52,
      "outputs": [
        {
          "output_type": "stream",
          "name": "stdout",
          "text": [
            "240/240 [==============================] - 0s 2ms/step\n",
            "60/60 [==============================] - 0s 1ms/step\n"
          ]
        }
      ]
    },
    {
      "cell_type": "code",
      "source": [
        "from sklearn.metrics import mean_squared_error\n",
        "print('mse for train data:', mean_squared_error(y_train,ypred_train))\n",
        "print('mse for test data:',mean_squared_error(y_test,ypred_test))"
      ],
      "metadata": {
        "colab": {
          "base_uri": "https://localhost:8080/"
        },
        "id": "T4EDwrV2b-kp",
        "outputId": "24d44424-3a95-492f-aa1e-99565939baff"
      },
      "execution_count": 53,
      "outputs": [
        {
          "output_type": "stream",
          "name": "stdout",
          "text": [
            "mse for train data: 20.56151302357892\n",
            "mse for test data: 19.171620365294803\n"
          ]
        }
      ]
    },
    {
      "cell_type": "code",
      "source": [
        "#calculate accuracy\n",
        "from sklearn.metrics import r2_score\n",
        "print('r2 for train data:',r2_score(y_train,ypred_train))\n",
        "print('r2 for test data:',r2_score(y_test,ypred_test))"
      ],
      "metadata": {
        "colab": {
          "base_uri": "https://localhost:8080/"
        },
        "id": "ZZ32XR9nc1Ps",
        "outputId": "e3bca9cb-2142-42db-e388-00338e91d61f"
      },
      "execution_count": 54,
      "outputs": [
        {
          "output_type": "stream",
          "name": "stdout",
          "text": [
            "r2 for train data: 0.9293233406587329\n",
            "r2 for test data: 0.9344532727921255\n"
          ]
        }
      ]
    },
    {
      "cell_type": "markdown",
      "source": [
        "**ML ALGORITHM**"
      ],
      "metadata": {
        "id": "SjHaMQxwflaS"
      }
    },
    {
      "cell_type": "code",
      "source": [
        "from sklearn.linear_model import LinearRegression\n",
        "lr=LinearRegression()\n",
        "lr.fit(x_train,y_train)\n"
      ],
      "metadata": {
        "colab": {
          "base_uri": "https://localhost:8080/",
          "height": 74
        },
        "id": "jng76IbAd5f7",
        "outputId": "74d014ed-fecb-450a-b24a-93040227911e"
      },
      "execution_count": 55,
      "outputs": [
        {
          "output_type": "execute_result",
          "data": {
            "text/plain": [
              "LinearRegression()"
            ],
            "text/html": [
              "<style>#sk-container-id-1 {color: black;background-color: white;}#sk-container-id-1 pre{padding: 0;}#sk-container-id-1 div.sk-toggleable {background-color: white;}#sk-container-id-1 label.sk-toggleable__label {cursor: pointer;display: block;width: 100%;margin-bottom: 0;padding: 0.3em;box-sizing: border-box;text-align: center;}#sk-container-id-1 label.sk-toggleable__label-arrow:before {content: \"▸\";float: left;margin-right: 0.25em;color: #696969;}#sk-container-id-1 label.sk-toggleable__label-arrow:hover:before {color: black;}#sk-container-id-1 div.sk-estimator:hover label.sk-toggleable__label-arrow:before {color: black;}#sk-container-id-1 div.sk-toggleable__content {max-height: 0;max-width: 0;overflow: hidden;text-align: left;background-color: #f0f8ff;}#sk-container-id-1 div.sk-toggleable__content pre {margin: 0.2em;color: black;border-radius: 0.25em;background-color: #f0f8ff;}#sk-container-id-1 input.sk-toggleable__control:checked~div.sk-toggleable__content {max-height: 200px;max-width: 100%;overflow: auto;}#sk-container-id-1 input.sk-toggleable__control:checked~label.sk-toggleable__label-arrow:before {content: \"▾\";}#sk-container-id-1 div.sk-estimator input.sk-toggleable__control:checked~label.sk-toggleable__label {background-color: #d4ebff;}#sk-container-id-1 div.sk-label input.sk-toggleable__control:checked~label.sk-toggleable__label {background-color: #d4ebff;}#sk-container-id-1 input.sk-hidden--visually {border: 0;clip: rect(1px 1px 1px 1px);clip: rect(1px, 1px, 1px, 1px);height: 1px;margin: -1px;overflow: hidden;padding: 0;position: absolute;width: 1px;}#sk-container-id-1 div.sk-estimator {font-family: monospace;background-color: #f0f8ff;border: 1px dotted black;border-radius: 0.25em;box-sizing: border-box;margin-bottom: 0.5em;}#sk-container-id-1 div.sk-estimator:hover {background-color: #d4ebff;}#sk-container-id-1 div.sk-parallel-item::after {content: \"\";width: 100%;border-bottom: 1px solid gray;flex-grow: 1;}#sk-container-id-1 div.sk-label:hover label.sk-toggleable__label {background-color: #d4ebff;}#sk-container-id-1 div.sk-serial::before {content: \"\";position: absolute;border-left: 1px solid gray;box-sizing: border-box;top: 0;bottom: 0;left: 50%;z-index: 0;}#sk-container-id-1 div.sk-serial {display: flex;flex-direction: column;align-items: center;background-color: white;padding-right: 0.2em;padding-left: 0.2em;position: relative;}#sk-container-id-1 div.sk-item {position: relative;z-index: 1;}#sk-container-id-1 div.sk-parallel {display: flex;align-items: stretch;justify-content: center;background-color: white;position: relative;}#sk-container-id-1 div.sk-item::before, #sk-container-id-1 div.sk-parallel-item::before {content: \"\";position: absolute;border-left: 1px solid gray;box-sizing: border-box;top: 0;bottom: 0;left: 50%;z-index: -1;}#sk-container-id-1 div.sk-parallel-item {display: flex;flex-direction: column;z-index: 1;position: relative;background-color: white;}#sk-container-id-1 div.sk-parallel-item:first-child::after {align-self: flex-end;width: 50%;}#sk-container-id-1 div.sk-parallel-item:last-child::after {align-self: flex-start;width: 50%;}#sk-container-id-1 div.sk-parallel-item:only-child::after {width: 0;}#sk-container-id-1 div.sk-dashed-wrapped {border: 1px dashed gray;margin: 0 0.4em 0.5em 0.4em;box-sizing: border-box;padding-bottom: 0.4em;background-color: white;}#sk-container-id-1 div.sk-label label {font-family: monospace;font-weight: bold;display: inline-block;line-height: 1.2em;}#sk-container-id-1 div.sk-label-container {text-align: center;}#sk-container-id-1 div.sk-container {/* jupyter's `normalize.less` sets `[hidden] { display: none; }` but bootstrap.min.css set `[hidden] { display: none !important; }` so we also need the `!important` here to be able to override the default hidden behavior on the sphinx rendered scikit-learn.org. See: https://github.com/scikit-learn/scikit-learn/issues/21755 */display: inline-block !important;position: relative;}#sk-container-id-1 div.sk-text-repr-fallback {display: none;}</style><div id=\"sk-container-id-1\" class=\"sk-top-container\"><div class=\"sk-text-repr-fallback\"><pre>LinearRegression()</pre><b>In a Jupyter environment, please rerun this cell to show the HTML representation or trust the notebook. <br />On GitHub, the HTML representation is unable to render, please try loading this page with nbviewer.org.</b></div><div class=\"sk-container\" hidden><div class=\"sk-item\"><div class=\"sk-estimator sk-toggleable\"><input class=\"sk-toggleable__control sk-hidden--visually\" id=\"sk-estimator-id-1\" type=\"checkbox\" checked><label for=\"sk-estimator-id-1\" class=\"sk-toggleable__label sk-toggleable__label-arrow\">LinearRegression</label><div class=\"sk-toggleable__content\"><pre>LinearRegression()</pre></div></div></div></div></div>"
            ]
          },
          "metadata": {},
          "execution_count": 55
        }
      ]
    },
    {
      "cell_type": "code",
      "source": [
        "lr.intercept_"
      ],
      "metadata": {
        "colab": {
          "base_uri": "https://localhost:8080/"
        },
        "id": "GcwYmCt-gIRK",
        "outputId": "972cbf4b-1b98-490e-ec43-ab526fbf56b3"
      },
      "execution_count": 57,
      "outputs": [
        {
          "output_type": "execute_result",
          "data": {
            "text/plain": [
              "454.30313953488366"
            ]
          },
          "metadata": {},
          "execution_count": 57
        }
      ]
    },
    {
      "cell_type": "code",
      "source": [
        "lr.coef_"
      ],
      "metadata": {
        "colab": {
          "base_uri": "https://localhost:8080/"
        },
        "id": "t2peRwp7gLYa",
        "outputId": "e6c7743c-c813-4608-d774-4d504637b90b"
      },
      "execution_count": 59,
      "outputs": [
        {
          "output_type": "execute_result",
          "data": {
            "text/plain": [
              "array([-14.67454912,  -3.01172383,   0.37960804,  -2.30750085])"
            ]
          },
          "metadata": {},
          "execution_count": 59
        }
      ]
    },
    {
      "cell_type": "code",
      "source": [
        "#predicing the result\n",
        "ypred_train=lr.predict(x_train)\n",
        "ypred_test=lr.predict(x_test)"
      ],
      "metadata": {
        "id": "WbGO7HhjgN7I"
      },
      "execution_count": 60,
      "outputs": []
    },
    {
      "cell_type": "code",
      "source": [
        "#calculate accuracy\n",
        "from sklearn.metrics import r2_score\n",
        "print('r2 for train data:',r2_score(y_train,ypred_train))\n",
        "print('r2 for test data:',r2_score(y_test,ypred_test))"
      ],
      "metadata": {
        "colab": {
          "base_uri": "https://localhost:8080/"
        },
        "id": "rua-pJ20gVxi",
        "outputId": "8f1b1872-b35d-416d-b4d1-3634eaa540e9"
      },
      "execution_count": 61,
      "outputs": [
        {
          "output_type": "stream",
          "name": "stdout",
          "text": [
            "r2 for train data: 0.9277253998587902\n",
            "r2 for test data: 0.932149614658693\n"
          ]
        }
      ]
    },
    {
      "cell_type": "markdown",
      "source": [
        "PERCEPTRON"
      ],
      "metadata": {
        "id": "FNnECH4Igcon"
      }
    },
    {
      "cell_type": "code",
      "source": [
        "from keras.models import Sequential\n",
        "from keras.layers import Dense"
      ],
      "metadata": {
        "id": "LbWhHxyPgaPH"
      },
      "execution_count": 65,
      "outputs": []
    },
    {
      "cell_type": "code",
      "source": [
        "def ann_model_regressor():  \n",
        "    model=Sequential()\n",
        "    model.add(Dense(input_dim=4,units=1,activation='relu',kernel_initializer='uniform'))\n",
        "    model.compile(optimizer='adam',loss='mean_squared_error')\n",
        "    return model"
      ],
      "metadata": {
        "id": "yfp9U1a6g1IY"
      },
      "execution_count": 66,
      "outputs": []
    },
    {
      "cell_type": "code",
      "source": [
        "pr=ann_model_regressor()\n",
        "pr.fit(x_train,y_train,batch_size=32,epochs=100 )"
      ],
      "metadata": {
        "colab": {
          "base_uri": "https://localhost:8080/"
        },
        "id": "4ZZYHOjqhSiQ",
        "outputId": "d0d7d7a9-a524-4559-d2b3-56aeb9847004"
      },
      "execution_count": 68,
      "outputs": [
        {
          "output_type": "stream",
          "name": "stdout",
          "text": [
            "Epoch 1/100\n",
            "240/240 [==============================] - 2s 5ms/step - loss: 206436.7812\n",
            "Epoch 2/100\n",
            "240/240 [==============================] - 1s 4ms/step - loss: 206036.7500\n",
            "Epoch 3/100\n",
            "240/240 [==============================] - 1s 2ms/step - loss: 205638.9531\n",
            "Epoch 4/100\n",
            "240/240 [==============================] - 1s 3ms/step - loss: 205243.2812\n",
            "Epoch 5/100\n",
            "240/240 [==============================] - 1s 3ms/step - loss: 204848.3281\n",
            "Epoch 6/100\n",
            "240/240 [==============================] - 0s 1ms/step - loss: 204454.3125\n",
            "Epoch 7/100\n",
            "240/240 [==============================] - 0s 1ms/step - loss: 204061.1719\n",
            "Epoch 8/100\n",
            "240/240 [==============================] - 0s 1ms/step - loss: 203670.0938\n",
            "Epoch 9/100\n",
            "240/240 [==============================] - 0s 1ms/step - loss: 203278.6719\n",
            "Epoch 10/100\n",
            "240/240 [==============================] - 0s 2ms/step - loss: 202889.4219\n",
            "Epoch 11/100\n",
            "240/240 [==============================] - 0s 2ms/step - loss: 202500.0625\n",
            "Epoch 12/100\n",
            "240/240 [==============================] - 0s 1ms/step - loss: 202112.2344\n",
            "Epoch 13/100\n",
            "240/240 [==============================] - 0s 2ms/step - loss: 201725.4531\n",
            "Epoch 14/100\n",
            "240/240 [==============================] - 0s 1ms/step - loss: 201340.9375\n",
            "Epoch 15/100\n",
            "240/240 [==============================] - 0s 1ms/step - loss: 200956.9844\n",
            "Epoch 16/100\n",
            "240/240 [==============================] - 0s 1ms/step - loss: 200573.5938\n",
            "Epoch 17/100\n",
            "240/240 [==============================] - 0s 1ms/step - loss: 200189.7969\n",
            "Epoch 18/100\n",
            "240/240 [==============================] - 0s 2ms/step - loss: 199807.7031\n",
            "Epoch 19/100\n",
            "240/240 [==============================] - 0s 2ms/step - loss: 199426.2031\n",
            "Epoch 20/100\n",
            "240/240 [==============================] - 0s 2ms/step - loss: 199045.2188\n",
            "Epoch 21/100\n",
            "240/240 [==============================] - 0s 1ms/step - loss: 198665.7031\n",
            "Epoch 22/100\n",
            "240/240 [==============================] - 0s 2ms/step - loss: 198286.8906\n",
            "Epoch 23/100\n",
            "240/240 [==============================] - 0s 2ms/step - loss: 197909.4062\n",
            "Epoch 24/100\n",
            "240/240 [==============================] - 0s 2ms/step - loss: 197531.4062\n",
            "Epoch 25/100\n",
            "240/240 [==============================] - 0s 1ms/step - loss: 197156.0000\n",
            "Epoch 26/100\n",
            "240/240 [==============================] - 0s 1ms/step - loss: 196780.7656\n",
            "Epoch 27/100\n",
            "240/240 [==============================] - 1s 2ms/step - loss: 196405.6406\n",
            "Epoch 28/100\n",
            "240/240 [==============================] - 1s 2ms/step - loss: 196032.2500\n",
            "Epoch 29/100\n",
            "240/240 [==============================] - 1s 2ms/step - loss: 195658.8906\n",
            "Epoch 30/100\n",
            "240/240 [==============================] - 1s 2ms/step - loss: 195286.7969\n",
            "Epoch 31/100\n",
            "240/240 [==============================] - 1s 2ms/step - loss: 194914.4375\n",
            "Epoch 32/100\n",
            "240/240 [==============================] - 0s 2ms/step - loss: 194543.8750\n",
            "Epoch 33/100\n",
            "240/240 [==============================] - 0s 1ms/step - loss: 194174.1250\n",
            "Epoch 34/100\n",
            "240/240 [==============================] - 0s 1ms/step - loss: 193804.4531\n",
            "Epoch 35/100\n",
            "240/240 [==============================] - 0s 2ms/step - loss: 193436.9219\n",
            "Epoch 36/100\n",
            "240/240 [==============================] - 0s 2ms/step - loss: 193069.5000\n",
            "Epoch 37/100\n",
            "240/240 [==============================] - 0s 2ms/step - loss: 192703.2969\n",
            "Epoch 38/100\n",
            "240/240 [==============================] - 0s 1ms/step - loss: 192338.2812\n",
            "Epoch 39/100\n",
            "240/240 [==============================] - 0s 2ms/step - loss: 191973.8906\n",
            "Epoch 40/100\n",
            "240/240 [==============================] - 0s 2ms/step - loss: 191611.5000\n",
            "Epoch 41/100\n",
            "240/240 [==============================] - 0s 1ms/step - loss: 191248.3750\n",
            "Epoch 42/100\n",
            "240/240 [==============================] - 0s 1ms/step - loss: 190885.7656\n",
            "Epoch 43/100\n",
            "240/240 [==============================] - 0s 1ms/step - loss: 190524.4531\n",
            "Epoch 44/100\n",
            "240/240 [==============================] - 0s 1ms/step - loss: 190164.0625\n",
            "Epoch 45/100\n",
            "240/240 [==============================] - 0s 2ms/step - loss: 189804.2344\n",
            "Epoch 46/100\n",
            "240/240 [==============================] - 1s 3ms/step - loss: 189445.9062\n",
            "Epoch 47/100\n",
            "240/240 [==============================] - 1s 3ms/step - loss: 189088.7812\n",
            "Epoch 48/100\n",
            "240/240 [==============================] - 1s 3ms/step - loss: 188731.5000\n",
            "Epoch 49/100\n",
            "240/240 [==============================] - 1s 3ms/step - loss: 188374.6719\n",
            "Epoch 50/100\n",
            "240/240 [==============================] - 1s 2ms/step - loss: 188017.9219\n",
            "Epoch 51/100\n",
            "240/240 [==============================] - 1s 3ms/step - loss: 187662.0781\n",
            "Epoch 52/100\n",
            "240/240 [==============================] - 1s 3ms/step - loss: 187308.9062\n",
            "Epoch 53/100\n",
            "240/240 [==============================] - 1s 4ms/step - loss: 186955.9219\n",
            "Epoch 54/100\n",
            "240/240 [==============================] - 1s 4ms/step - loss: 186602.8125\n",
            "Epoch 55/100\n",
            "240/240 [==============================] - 1s 2ms/step - loss: 186251.9375\n",
            "Epoch 56/100\n",
            "240/240 [==============================] - 1s 2ms/step - loss: 185902.5312\n",
            "Epoch 57/100\n",
            "240/240 [==============================] - 0s 2ms/step - loss: 185552.8281\n",
            "Epoch 58/100\n",
            "240/240 [==============================] - 0s 2ms/step - loss: 185203.4062\n",
            "Epoch 59/100\n",
            "240/240 [==============================] - 0s 1ms/step - loss: 184854.8594\n",
            "Epoch 60/100\n",
            "240/240 [==============================] - 0s 1ms/step - loss: 184507.1094\n",
            "Epoch 61/100\n",
            "240/240 [==============================] - 0s 1ms/step - loss: 184159.5625\n",
            "Epoch 62/100\n",
            "240/240 [==============================] - 0s 2ms/step - loss: 183812.8125\n",
            "Epoch 63/100\n",
            "240/240 [==============================] - 0s 2ms/step - loss: 183467.6406\n",
            "Epoch 64/100\n",
            "240/240 [==============================] - 0s 1ms/step - loss: 183123.3438\n",
            "Epoch 65/100\n",
            "240/240 [==============================] - 0s 2ms/step - loss: 182779.4844\n",
            "Epoch 66/100\n",
            "240/240 [==============================] - 0s 1ms/step - loss: 182436.4062\n",
            "Epoch 67/100\n",
            "240/240 [==============================] - 0s 1ms/step - loss: 182093.5469\n",
            "Epoch 68/100\n",
            "240/240 [==============================] - 0s 1ms/step - loss: 181752.3750\n",
            "Epoch 69/100\n",
            "240/240 [==============================] - 0s 1ms/step - loss: 181411.6719\n",
            "Epoch 70/100\n",
            "240/240 [==============================] - 0s 1ms/step - loss: 181071.8125\n",
            "Epoch 71/100\n",
            "240/240 [==============================] - 0s 2ms/step - loss: 180733.4844\n",
            "Epoch 72/100\n",
            "240/240 [==============================] - 0s 1ms/step - loss: 180395.8438\n",
            "Epoch 73/100\n",
            "240/240 [==============================] - 0s 2ms/step - loss: 180059.1719\n",
            "Epoch 74/100\n",
            "240/240 [==============================] - 0s 1ms/step - loss: 179723.1719\n",
            "Epoch 75/100\n",
            "240/240 [==============================] - 0s 1ms/step - loss: 179387.1406\n",
            "Epoch 76/100\n",
            "240/240 [==============================] - 1s 2ms/step - loss: 179051.7812\n",
            "Epoch 77/100\n",
            "240/240 [==============================] - 1s 2ms/step - loss: 178717.5938\n",
            "Epoch 78/100\n",
            "240/240 [==============================] - 1s 3ms/step - loss: 178384.2500\n",
            "Epoch 79/100\n",
            "240/240 [==============================] - 1s 2ms/step - loss: 178051.3906\n",
            "Epoch 80/100\n",
            "240/240 [==============================] - 0s 1ms/step - loss: 177719.8594\n",
            "Epoch 81/100\n",
            "240/240 [==============================] - 0s 1ms/step - loss: 177388.6250\n",
            "Epoch 82/100\n",
            "240/240 [==============================] - 1s 2ms/step - loss: 177057.2656\n",
            "Epoch 83/100\n",
            "240/240 [==============================] - 0s 2ms/step - loss: 176728.4844\n",
            "Epoch 84/100\n",
            "240/240 [==============================] - 1s 2ms/step - loss: 176399.2812\n",
            "Epoch 85/100\n",
            "240/240 [==============================] - 1s 2ms/step - loss: 176072.4375\n",
            "Epoch 86/100\n",
            "240/240 [==============================] - 1s 2ms/step - loss: 175744.7812\n",
            "Epoch 87/100\n",
            "240/240 [==============================] - 1s 2ms/step - loss: 175419.7500\n",
            "Epoch 88/100\n",
            "240/240 [==============================] - 0s 2ms/step - loss: 175094.5625\n",
            "Epoch 89/100\n",
            "240/240 [==============================] - 0s 2ms/step - loss: 174770.6719\n",
            "Epoch 90/100\n",
            "240/240 [==============================] - 0s 1ms/step - loss: 174448.5625\n",
            "Epoch 91/100\n",
            "240/240 [==============================] - 0s 1ms/step - loss: 174126.6250\n",
            "Epoch 92/100\n",
            "240/240 [==============================] - 0s 1ms/step - loss: 173805.5781\n",
            "Epoch 93/100\n",
            "240/240 [==============================] - 0s 2ms/step - loss: 173484.9219\n",
            "Epoch 94/100\n",
            "240/240 [==============================] - 0s 1ms/step - loss: 173165.1094\n",
            "Epoch 95/100\n",
            "240/240 [==============================] - 0s 1ms/step - loss: 172845.1406\n",
            "Epoch 96/100\n",
            "240/240 [==============================] - 0s 1ms/step - loss: 172526.3281\n",
            "Epoch 97/100\n",
            "240/240 [==============================] - 0s 2ms/step - loss: 172208.3750\n",
            "Epoch 98/100\n",
            "240/240 [==============================] - 0s 1ms/step - loss: 171891.5000\n",
            "Epoch 99/100\n",
            "240/240 [==============================] - 0s 2ms/step - loss: 171575.7344\n",
            "Epoch 100/100\n",
            "240/240 [==============================] - 0s 1ms/step - loss: 171260.3906\n"
          ]
        },
        {
          "output_type": "execute_result",
          "data": {
            "text/plain": [
              "<keras.callbacks.History at 0x7f068238a020>"
            ]
          },
          "metadata": {},
          "execution_count": 68
        }
      ]
    },
    {
      "cell_type": "code",
      "source": [
        "#predicing the result\n",
        "ypred_train=lr.predict(x_train)\n",
        "ypred_test=lr.predict(x_test)"
      ],
      "metadata": {
        "id": "Afm7xK4DhoA_"
      },
      "execution_count": 69,
      "outputs": []
    },
    {
      "cell_type": "code",
      "source": [
        "#calculate accuracy\n",
        "from sklearn.metrics import r2_score\n",
        "print('r2 for train data:',r2_score(y_train,ypred_train))\n",
        "print('r2 for test data:',r2_score(y_test,ypred_test))"
      ],
      "metadata": {
        "colab": {
          "base_uri": "https://localhost:8080/"
        },
        "id": "-ZcIN5G9iFxd",
        "outputId": "927d3648-fe5a-47f3-fac7-831c351382c8"
      },
      "execution_count": 70,
      "outputs": [
        {
          "output_type": "stream",
          "name": "stdout",
          "text": [
            "r2 for train data: 0.9277253998587902\n",
            "r2 for test data: 0.932149614658693\n"
          ]
        }
      ]
    },
    {
      "cell_type": "code",
      "source": [
        " "
      ],
      "metadata": {
        "id": "7gZFmP_aiHLQ"
      },
      "execution_count": null,
      "outputs": []
    }
  ]
}